{
 "cells": [
  {
   "cell_type": "code",
   "execution_count": 6,
   "metadata": {},
   "outputs": [
    {
     "data": {
      "text/plain": [
       "{'a': ['hello']}"
      ]
     },
     "execution_count": 6,
     "metadata": {},
     "output_type": "execute_result"
    }
   ],
   "source": [
    "d = { \"a\": \"hello\"}\r\n",
    "\r\n",
    "d[\"a\"] = [\"hello\"]\r\n",
    "\r\n",
    "d"
   ]
  },
  {
   "cell_type": "code",
   "execution_count": 8,
   "metadata": {},
   "outputs": [
    {
     "data": {
      "text/plain": [
       "[{'name': 'woodstocks', 'order': 'grubhub'},\n",
       " {'name': 'freebirds', 'order': 'grubhub'}]"
      ]
     },
     "execution_count": 8,
     "metadata": {},
     "output_type": "execute_result"
    }
   ],
   "source": [
    "\r\n",
    "output = []\r\n",
    "\r\n",
    "for i in [\"woodstocks\", \"freebirds\"]:\r\n",
    "    data = {}\r\n",
    "\r\n",
    "    data[\"name\"] = i\r\n",
    "    data[\"order\"] = \"grubhub\"\r\n",
    "\r\n",
    "    output.append(data)\r\n",
    "\r\n",
    "output"
   ]
  },
  {
   "cell_type": "code",
   "execution_count": 14,
   "metadata": {},
   "outputs": [
    {
     "name": "stdout",
     "output_type": "stream",
     "text": [
      "* Hello alex!\n"
     ]
    },
    {
     "data": {
      "text/plain": [
       "{'hours': {'name': 'grubhu', 'url': 'google.com'}}"
      ]
     },
     "execution_count": 14,
     "metadata": {},
     "output_type": "execute_result"
    }
   ],
   "source": [
    "name = \"alex\"\r\n",
    "\r\n",
    "\"hello \"+  name + \"!\" \r\n",
    "\r\n",
    "print(f\"* Hello {name}!\")\r\n",
    "\r\n",
    "{\r\n",
    "    \"hours\": {\r\n",
    "        \"name\": \"grubhu\",\r\n",
    "        \"url\": \"google.com\"\r\n",
    "    }\r\n",
    "}"
   ]
  }
 ],
 "metadata": {
  "interpreter": {
   "hash": "909c42545ab2f9b73e7086903da9901a9a61ba7825ebbc7785bd30c6d7dc9824"
  },
  "kernelspec": {
   "display_name": "Python 3.7.4 32-bit ('myenv': venv)",
   "name": "python3"
  },
  "language_info": {
   "codemirror_mode": {
    "name": "ipython",
    "version": 3
   },
   "file_extension": ".py",
   "mimetype": "text/x-python",
   "name": "python",
   "nbconvert_exporter": "python",
   "pygments_lexer": "ipython3",
   "version": "3.7.4"
  },
  "orig_nbformat": 4
 },
 "nbformat": 4,
 "nbformat_minor": 2
}